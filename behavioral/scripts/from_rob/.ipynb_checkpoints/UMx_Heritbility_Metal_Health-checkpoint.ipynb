{
 "cells": [
  {
   "cell_type": "code",
   "execution_count": 1,
   "metadata": {},
   "outputs": [],
   "source": [
    "library(plyr)"
   ]
  },
  {
   "cell_type": "code",
   "execution_count": 2,
   "metadata": {},
   "outputs": [
    {
     "name": "stderr",
     "output_type": "stream",
     "text": [
      "Loading required package: OpenMx\n",
      "To take full advantage of multiple cores, use:\n",
      "  mxOption(NULL, 'Number of Threads', parallel::detectCores()) #now\n",
      "  Sys.setenv(OMP_NUM_THREADS=parallel::detectCores()) #before library(OpenMx)\n",
      "For an overview type '?umx'\n",
      "\n",
      "Attaching package: 'umx'\n",
      "\n",
      "The following object is masked from 'package:stats':\n",
      "\n",
      "    loadings\n",
      "\n",
      "\n",
      "Attaching package: 'Matrix'\n",
      "\n",
      "The following objects are masked from 'package:OpenMx':\n",
      "\n",
      "    %&%, expm\n",
      "\n",
      "\n",
      "Attaching package: 'dplyr'\n",
      "\n",
      "The following objects are masked from 'package:plyr':\n",
      "\n",
      "    arrange, count, desc, failwith, id, mutate, rename, summarise,\n",
      "    summarize\n",
      "\n",
      "The following objects are masked from 'package:stats':\n",
      "\n",
      "    filter, lag\n",
      "\n",
      "The following objects are masked from 'package:base':\n",
      "\n",
      "    intersect, setdiff, setequal, union\n",
      "\n",
      "\n",
      "Attaching package: 'reshape'\n",
      "\n",
      "The following object is masked from 'package:dplyr':\n",
      "\n",
      "    rename\n",
      "\n",
      "The following object is masked from 'package:Matrix':\n",
      "\n",
      "    expand\n",
      "\n",
      "The following objects are masked from 'package:plyr':\n",
      "\n",
      "    rename, round_any\n",
      "\n"
     ]
    }
   ],
   "source": [
    "library(umx)\n",
    "library(Matrix)\n",
    "library(dplyr)\n",
    "library(reshape)"
   ]
  },
  {
   "cell_type": "code",
   "execution_count": 3,
   "metadata": {},
   "outputs": [
    {
     "name": "stderr",
     "output_type": "stream",
     "text": [
      "Warning message in read.table(\"/home/rloughna/data/ABCD/database.csv\", sep = \",\", :\n",
      "\"incomplete final line found by readTableHeader on '/home/rloughna/data/ABCD/database.csv'\""
     ]
    }
   ],
   "source": [
    "# Load Data\n",
    "database = read.table('/home/rloughna/data/ABCD/database.csv', sep=',', row.names=1)\n",
    "df = readRDS(as.character(database['nda_file', 'V2']))\n",
    "row.names(df) = df$src_subject_id\n",
    "kin_mat = readMM(as.character(database['kin_mat', 'V2']))\n",
    "individuals = as.character(read.table(as.character(database['kin_mat', 'V3']))$V1)\n",
    "\n",
    "# Find nih toolbox tasks\n",
    "nihtbx_tsks = colnames(df)[startsWith(colnames(df), 'nihtbx') & endsWith(colnames(df), 'uncorrected')]\n",
    "cbcl_scales = colnames(df)[startsWith(colnames(df), 'cbcl') & endsWith(colnames(df), 'r')]\n",
    "tasks = c()\n",
    "# Other non-tool box tasks (RAVLT, Matrix reasoning, Little Man) - maybe add SSRT later\n",
    "df[,'RAVLT']<-rowSums(cbind(df$pea_ravlt_sd_trial_i_tc,df$pea_ravlt_sd_trial_ii_tc,df$pea_ravlt_sd_trial_iii_tc,df$pea_ravlt_sd_trial_iv_tc,df$pea_ravlt_sd_trial_v_tc),na.rm=TRUE)\n",
    "# Combine tasks in to nihtbx_tsks vector\n",
    "measures = c(nihtbx_tsks, cbcl_scales, c('RAVLT', 'pea_wiscv_trs', 'lmt_scr_perc_correct', 'bis_ss_bis_sum', 'bis_ss_bas_rr', 'bis_ss_bas_drive', 'bis_ss_bas_fs', 'anthroheightcalc'))\n",
    "# for (i in 1:length(measures)){\n",
    "#     # Remove prefix and suffix\n",
    "#     tasks[i] = gsub(\"nihtbx_\",\"\",gsub(\"_uncorrected\",\"\",measures[i]))\n",
    "#     df[, tasks[i]] = df[, measures[i]]\n",
    "# }\n",
    "\n",
    "# Select relevant individuals\n",
    "df = df[individuals,]\n",
    "\n",
    "kin_mat = as.matrix(kin_mat)\n",
    "colnames(kin_mat) = individuals\n",
    "row.names(kin_mat) = individuals\n",
    "\n",
    "# Find Mono and dizygotic twins\n",
    "kin_mat[lower.tri(diag(nrow(kin_mat)))] = 0 # Set lower triangle to be zero\n",
    "dizyg_ind = which(kin_mat==0.5, arr.ind=TRUE)\n",
    "mono_ind = which(kin_mat-diag(nrow(kin_mat))==1, arr.ind=TRUE)\n",
    "\n",
    "# Monozygotic coded as 1, Dizygotic coded as 2\n",
    "nl = data.frame(zyg=c(rep(1, dim(mono_ind)[1]), rep(2, dim(dizyg_ind)[1])))\n",
    "twin_ind = rbind(mono_ind, dizyg_ind)\n",
    "for (i in 1:length(measures)){\n",
    "  # Add task data to nl - task1 (twin 1) task2 (twin2)\n",
    "  variance = var(df[, measures[1]], use='na.or.complete')\n",
    "  nl[, paste0(measures[i], '1')] = df[individuals[twin_ind[,1]], measures[i]]/variance^.5 # Rescale to have variances around 1\n",
    "  nl[, paste0(measures[i], '2')] = df[individuals[twin_ind[,2]], measures[i]]/variance^.5\n",
    "}\n",
    "# Omit NAn Entries\n",
    "nl= nl[complete.cases(nl), ]\n"
   ]
  },
  {
   "cell_type": "code",
   "execution_count": 4,
   "metadata": {},
   "outputs": [],
   "source": [
    "# Find Mono and dizygotic twins\n",
    "kin_mat[lower.tri(diag(nrow(kin_mat)))] = 0 # Set lower triangle to be zero\n",
    "dizyg_ind = which(kin_mat==0.5, arr.ind=TRUE)\n",
    "mono_ind = which(kin_mat-diag(nrow(kin_mat))==1, arr.ind=TRUE)\n",
    "\n",
    "# Monozygotic coded as 1, Dizygotic coded as 2\n",
    "nl = data.frame(zyg=c(rep(1, dim(mono_ind)[1]), rep(2, dim(dizyg_ind)[1])))\n",
    "twin_ind = rbind(mono_ind, dizyg_ind)\n",
    "for (i in 1:length(measures)){\n",
    "  # Add task data to nl - task1 (twin 1) task2 (twin2)\n",
    "  variance = var(df[, measures[1]], use='na.or.complete')\n",
    "  nl[, paste0(measures[i], '1')] = df[individuals[twin_ind[,1]], measures[i]]/variance^.5 # Rescale to have variances around 1\n",
    "  nl[, paste0(measures[i], '2')] = df[individuals[twin_ind[,2]], measures[i]]/variance^.5\n",
    "}\n",
    "# Omit NAn Entries\n",
    "nl= nl[complete.cases(nl), ]"
   ]
  },
  {
   "cell_type": "code",
   "execution_count": 30,
   "metadata": {},
   "outputs": [
    {
     "name": "stderr",
     "output_type": "stream",
     "text": [
      "All variables continuous\n",
      "treating data as raw\n",
      "Running ACE with 4 parameters\n",
      "ACE -2 <U+00D7> log(Likelihood) = 1547.16\n",
      "Standardized solution\n"
     ]
    },
    {
     "name": "stdout",
     "output_type": "stream",
     "text": [
      "\n",
      "\n",
      "|                            |   a1|   c1|   e1|\n",
      "|:---------------------------|----:|----:|----:|\n",
      "|nihtbx_picvocab_uncorrected | 0.69| 0.42| 0.59|\n"
     ]
    },
    {
     "name": "stderr",
     "output_type": "stream",
     "text": [
      "All variables continuous\n",
      "treating data as raw\n",
      "Running ACE with 4 parameters\n",
      "ACE -2 <U+00D7> log(Likelihood) = 1786.6\n",
      "Standardized solution\n"
     ]
    },
    {
     "name": "stdout",
     "output_type": "stream",
     "text": [
      "\n",
      "\n",
      "|                           |   a1|   c1|  e1|\n",
      "|:--------------------------|----:|----:|---:|\n",
      "|nihtbx_flanker_uncorrected | 0.49| 0.35| 0.8|\n"
     ]
    },
    {
     "name": "stderr",
     "output_type": "stream",
     "text": [
      "All variables continuous\n",
      "treating data as raw\n",
      "Running ACE with 4 parameters\n",
      "ACE -2 <U+00D7> log(Likelihood) = 2123.6\n",
      "Standardized solution\n"
     ]
    },
    {
     "name": "stdout",
     "output_type": "stream",
     "text": [
      "\n",
      "\n",
      "|                        |  a1|   c1|   e1|\n",
      "|:-----------------------|---:|----:|----:|\n",
      "|nihtbx_list_uncorrected | 0.5| 0.36| 0.79|\n"
     ]
    },
    {
     "name": "stderr",
     "output_type": "stream",
     "text": [
      "All variables continuous\n",
      "treating data as raw\n",
      "Running ACE with 4 parameters\n",
      "ACE -2 <U+00D7> log(Likelihood) = 1869.7\n",
      "Standardized solution\n"
     ]
    },
    {
     "name": "stdout",
     "output_type": "stream",
     "text": [
      "\n",
      "\n",
      "|                            |   a1|c1 |   e1|\n",
      "|:---------------------------|----:|:--|----:|\n",
      "|nihtbx_cardsort_uncorrected | 0.68|.  | 0.73|\n"
     ]
    },
    {
     "name": "stderr",
     "output_type": "stream",
     "text": [
      "All variables continuous\n",
      "treating data as raw\n",
      "Running ACE with 4 parameters\n",
      "ACE -2 <U+00D7> log(Likelihood) = 2455.48\n",
      "Standardized solution\n"
     ]
    },
    {
     "name": "stdout",
     "output_type": "stream",
     "text": [
      "\n",
      "\n",
      "|                           |a1 |   c1|   e1|\n",
      "|:--------------------------|:--|----:|----:|\n",
      "|nihtbx_pattern_uncorrected |.  | 0.54| 0.84|\n"
     ]
    },
    {
     "name": "stderr",
     "output_type": "stream",
     "text": [
      "All variables continuous\n",
      "treating data as raw\n",
      "Running ACE with 4 parameters\n",
      "ACE -2 <U+00D7> log(Likelihood) = 2185.8\n",
      "Standardized solution\n"
     ]
    },
    {
     "name": "stdout",
     "output_type": "stream",
     "text": [
      "\n",
      "\n",
      "|                           |  a1|c1 |   e1|\n",
      "|:--------------------------|---:|:--|----:|\n",
      "|nihtbx_picture_uncorrected | 0.7|.  | 0.71|\n"
     ]
    },
    {
     "name": "stderr",
     "output_type": "stream",
     "text": [
      "All variables continuous\n",
      "treating data as raw\n",
      "Running ACE with 4 parameters\n",
      "ACE -2 <U+00D7> log(Likelihood) = 1186.67\n",
      "Standardized solution\n"
     ]
    },
    {
     "name": "stdout",
     "output_type": "stream",
     "text": [
      "\n",
      "\n",
      "|                           |   a1|   c1|   e1|\n",
      "|:--------------------------|----:|----:|----:|\n",
      "|nihtbx_reading_uncorrected | 0.77| 0.25| 0.59|\n"
     ]
    },
    {
     "name": "stderr",
     "output_type": "stream",
     "text": [
      "All variables continuous\n",
      "treating data as raw\n",
      "Running ACE with 4 parameters\n",
      "ACE -2 <U+00D7> log(Likelihood) = 1985.75\n",
      "Standardized solution\n"
     ]
    },
    {
     "name": "stdout",
     "output_type": "stream",
     "text": [
      "\n",
      "\n",
      "|                             |   a1|   c1|   e1|\n",
      "|:----------------------------|----:|----:|----:|\n",
      "|nihtbx_fluidcomp_uncorrected | 0.71| 0.34| 0.62|\n"
     ]
    },
    {
     "name": "stderr",
     "output_type": "stream",
     "text": [
      "All variables continuous\n",
      "treating data as raw\n",
      "Running ACE with 4 parameters\n",
      "ACE -2 <U+00D7> log(Likelihood) = 1238.5\n",
      "Standardized solution\n"
     ]
    },
    {
     "name": "stdout",
     "output_type": "stream",
     "text": [
      "\n",
      "\n",
      "|                         |   a1|   c1|   e1|\n",
      "|:------------------------|----:|----:|----:|\n",
      "|nihtbx_cryst_uncorrected | 0.77| 0.39| 0.51|\n"
     ]
    },
    {
     "name": "stderr",
     "output_type": "stream",
     "text": [
      "All variables continuous\n",
      "treating data as raw\n",
      "Running ACE with 4 parameters\n",
      "ACE -2 <U+00D7> log(Likelihood) = 1668.9\n",
      "Standardized solution\n"
     ]
    },
    {
     "name": "stdout",
     "output_type": "stream",
     "text": [
      "\n",
      "\n",
      "|                             |   a1|   c1|   e1|\n",
      "|:----------------------------|----:|----:|----:|\n",
      "|nihtbx_totalcomp_uncorrected | 0.73| 0.42| 0.54|\n"
     ]
    },
    {
     "name": "stderr",
     "output_type": "stream",
     "text": [
      "All variables continuous\n",
      "treating data as raw\n",
      "Running ACE with 4 parameters\n",
      "ACE -2 <U+00D7> log(Likelihood) = 567.32\n",
      "Standardized solution\n"
     ]
    },
    {
     "name": "stdout",
     "output_type": "stream",
     "text": [
      "\n",
      "\n",
      "|                      |   a1|   c1|   e1|\n",
      "|:---------------------|----:|----:|----:|\n",
      "|cbcl_scr_syn_anxdep_r | 0.41| 0.54| 0.74|\n"
     ]
    },
    {
     "name": "stderr",
     "output_type": "stream",
     "text": [
      "All variables continuous\n",
      "treating data as raw\n",
      "Running ACE with 4 parameters\n",
      "ACE -2 <U+00D7> log(Likelihood) = -212.48\n",
      "Standardized solution\n"
     ]
    },
    {
     "name": "stdout",
     "output_type": "stream",
     "text": [
      "\n",
      "\n",
      "|                       |   a1|c1 |   e1|\n",
      "|:----------------------|----:|:--|----:|\n",
      "|cbcl_scr_syn_withdep_r | 0.73|.  | 0.68|\n"
     ]
    },
    {
     "name": "stderr",
     "output_type": "stream",
     "text": [
      "All variables continuous\n",
      "treating data as raw\n",
      "Running ACE with 4 parameters\n",
      "ACE -2 <U+00D7> log(Likelihood) = 76.78\n",
      "Standardized solution\n"
     ]
    },
    {
     "name": "stdout",
     "output_type": "stream",
     "text": [
      "\n",
      "\n",
      "|                       |   a1|   c1|   e1|\n",
      "|:----------------------|----:|----:|----:|\n",
      "|cbcl_scr_syn_somatic_r | 0.63| 0.22| 0.74|\n"
     ]
    },
    {
     "name": "stderr",
     "output_type": "stream",
     "text": [
      "All variables continuous\n",
      "treating data as raw\n",
      "Running ACE with 4 parameters\n",
      "ACE -2 <U+00D7> log(Likelihood) = 111.39\n",
      "Standardized solution\n"
     ]
    },
    {
     "name": "stdout",
     "output_type": "stream",
     "text": [
      "\n",
      "\n",
      "|                      |   a1|   c1|   e1|\n",
      "|:---------------------|----:|----:|----:|\n",
      "|cbcl_scr_syn_social_r | 0.34| 0.47| 0.82|\n"
     ]
    },
    {
     "name": "stderr",
     "output_type": "stream",
     "text": [
      "All variables continuous\n",
      "treating data as raw\n",
      "Running ACE with 4 parameters\n",
      "ACE -2 <U+00D7> log(Likelihood) = 32.37\n",
      "Standardized solution\n"
     ]
    },
    {
     "name": "stdout",
     "output_type": "stream",
     "text": [
      "\n",
      "\n",
      "|                       |   a1|c1 |   e1|\n",
      "|:----------------------|----:|:--|----:|\n",
      "|cbcl_scr_syn_thought_r | 0.65|.  | 0.76|\n"
     ]
    },
    {
     "name": "stderr",
     "output_type": "stream",
     "text": [
      "All variables continuous\n",
      "treating data as raw\n",
      "Running ACE with 4 parameters\n",
      "ACE -2 <U+00D7> log(Likelihood) = 500.97\n",
      "Standardized solution\n"
     ]
    },
    {
     "name": "stdout",
     "output_type": "stream",
     "text": [
      "\n",
      "\n",
      "|                         |  a1|c1 |  e1|\n",
      "|:------------------------|---:|:--|---:|\n",
      "|cbcl_scr_syn_attention_r | 0.8|.  | 0.6|\n"
     ]
    },
    {
     "name": "stderr",
     "output_type": "stream",
     "text": [
      "All variables continuous\n",
      "treating data as raw\n",
      "Running ACE with 4 parameters\n",
      "ACE -2 <U+00D7> log(Likelihood) = -96.23\n",
      "Standardized solution\n"
     ]
    },
    {
     "name": "stdout",
     "output_type": "stream",
     "text": [
      "\n",
      "\n",
      "|                         |   a1|c1 |   e1|\n",
      "|:------------------------|----:|:--|----:|\n",
      "|cbcl_scr_syn_rulebreak_r | 0.77|.  | 0.64|\n"
     ]
    },
    {
     "name": "stderr",
     "output_type": "stream",
     "text": [
      "All variables continuous\n",
      "treating data as raw\n",
      "Running ACE with 4 parameters\n",
      "ACE -2 <U+00D7> log(Likelihood) = 874.01\n",
      "Standardized solution\n"
     ]
    },
    {
     "name": "stdout",
     "output_type": "stream",
     "text": [
      "\n",
      "\n",
      "|                          |   a1|c1 |   e1|\n",
      "|:-------------------------|----:|:--|----:|\n",
      "|cbcl_scr_syn_aggressive_r | 0.77|.  | 0.64|\n"
     ]
    },
    {
     "name": "stderr",
     "output_type": "stream",
     "text": [
      "All variables continuous\n",
      "treating data as raw\n",
      "Running ACE with 4 parameters\n",
      "ACE -2 <U+00D7> log(Likelihood) = 1201.4\n",
      "Standardized solution\n"
     ]
    },
    {
     "name": "stdout",
     "output_type": "stream",
     "text": [
      "\n",
      "\n",
      "|                        |   a1|   c1|   e1|\n",
      "|:-----------------------|----:|----:|----:|\n",
      "|cbcl_scr_syn_internal_r | 0.51| 0.53| 0.68|\n"
     ]
    },
    {
     "name": "stderr",
     "output_type": "stream",
     "text": [
      "All variables continuous\n",
      "treating data as raw\n",
      "Running ACE with 4 parameters\n",
      "ACE -2 <U+00D7> log(Likelihood) = 1199.4\n",
      "Standardized solution\n"
     ]
    },
    {
     "name": "stdout",
     "output_type": "stream",
     "text": [
      "\n",
      "\n",
      "|                        |   a1|c1 |   e1|\n",
      "|:-----------------------|----:|:--|----:|\n",
      "|cbcl_scr_syn_external_r | 0.79|.  | 0.62|\n"
     ]
    },
    {
     "name": "stderr",
     "output_type": "stream",
     "text": [
      "All variables continuous\n",
      "treating data as raw\n",
      "Running ACE with 4 parameters\n",
      "ACE -2 <U+00D7> log(Likelihood) = 2394.52\n",
      "Standardized solution\n"
     ]
    },
    {
     "name": "stdout",
     "output_type": "stream",
     "text": [
      "\n",
      "\n",
      "|                       |   a1|   c1|   e1|\n",
      "|:----------------------|----:|----:|----:|\n",
      "|cbcl_scr_syn_totprob_r | 0.65| 0.48| 0.59|\n"
     ]
    },
    {
     "name": "stderr",
     "output_type": "stream",
     "text": [
      "All variables continuous\n",
      "treating data as raw\n",
      "Running ACE with 4 parameters\n",
      "ACE -2 <U+00D7> log(Likelihood) = 49.42\n",
      "Standardized solution\n"
     ]
    },
    {
     "name": "stdout",
     "output_type": "stream",
     "text": [
      "\n",
      "\n",
      "|                        |   a1|   c1|   e1|\n",
      "|:-----------------------|----:|----:|----:|\n",
      "|cbcl_scr_dsm5_depress_r | 0.58| 0.39| 0.71|\n"
     ]
    },
    {
     "name": "stderr",
     "output_type": "stream",
     "text": [
      "All variables continuous\n",
      "treating data as raw\n",
      "Running ACE with 4 parameters\n",
      "ACE -2 <U+00D7> log(Likelihood) = 238.18\n",
      "Standardized solution\n"
     ]
    },
    {
     "name": "stdout",
     "output_type": "stream",
     "text": [
      "\n",
      "\n",
      "|                          |  a1|   c1|   e1|\n",
      "|:-------------------------|---:|----:|----:|\n",
      "|cbcl_scr_dsm5_anxdisord_r | 0.5| 0.44| 0.74|\n"
     ]
    },
    {
     "name": "stderr",
     "output_type": "stream",
     "text": [
      "All variables continuous\n",
      "treating data as raw\n",
      "Running ACE with 4 parameters\n",
      "ACE -2 <U+00D7> log(Likelihood) = -222.92\n",
      "Standardized solution\n"
     ]
    },
    {
     "name": "stdout",
     "output_type": "stream",
     "text": [
      "\n",
      "\n",
      "|                          |   a1|  c1|   e1|\n",
      "|:-------------------------|----:|---:|----:|\n",
      "|cbcl_scr_dsm5_somaticpr_r | 0.65| 0.1| 0.75|\n"
     ]
    },
    {
     "name": "stderr",
     "output_type": "stream",
     "text": [
      "All variables continuous\n",
      "treating data as raw\n",
      "Running ACE with 4 parameters\n",
      "ACE -2 <U+00D7> log(Likelihood) = 367.92\n",
      "Standardized solution\n"
     ]
    },
    {
     "name": "stdout",
     "output_type": "stream",
     "text": [
      "\n",
      "\n",
      "|                     |   a1|c1 |   e1|\n",
      "|:--------------------|----:|:--|----:|\n",
      "|cbcl_scr_dsm5_adhd_r | 0.78|.  | 0.62|\n"
     ]
    },
    {
     "name": "stderr",
     "output_type": "stream",
     "text": [
      "All variables continuous\n",
      "treating data as raw\n",
      "Running ACE with 4 parameters\n",
      "ACE -2 <U+00D7> log(Likelihood) = 86.86\n",
      "Standardized solution\n"
     ]
    },
    {
     "name": "stdout",
     "output_type": "stream",
     "text": [
      "\n",
      "\n",
      "|                        |   a1|c1 |   e1|\n",
      "|:-----------------------|----:|:--|----:|\n",
      "|cbcl_scr_dsm5_opposit_r | 0.74|.  | 0.67|\n"
     ]
    },
    {
     "name": "stderr",
     "output_type": "stream",
     "text": [
      "All variables continuous\n",
      "treating data as raw\n",
      "Running ACE with 4 parameters\n",
      "ACE -2 <U+00D7> log(Likelihood) = 90.91\n",
      "Standardized solution\n"
     ]
    },
    {
     "name": "stdout",
     "output_type": "stream",
     "text": [
      "\n",
      "\n",
      "|                        |   a1|c1 |   e1|\n",
      "|:-----------------------|----:|:--|----:|\n",
      "|cbcl_scr_dsm5_conduct_r | 0.75|.  | 0.67|\n"
     ]
    },
    {
     "name": "stderr",
     "output_type": "stream",
     "text": [
      "All variables continuous\n",
      "treating data as raw\n",
      "Running ACE with 4 parameters\n",
      "ACE -2 <U+00D7> log(Likelihood) = -1022.47\n",
      "Standardized solution\n"
     ]
    },
    {
     "name": "stdout",
     "output_type": "stream",
     "text": [
      "\n",
      "\n",
      "|                  |   a1|c1 |   e1|\n",
      "|:-----------------|----:|:--|----:|\n",
      "|cbcl_scr_07_sct_r | 0.61|.  | 0.79|\n"
     ]
    },
    {
     "name": "stderr",
     "output_type": "stream",
     "text": [
      "All variables continuous\n",
      "treating data as raw\n",
      "Running ACE with 4 parameters\n",
      "ACE -2 <U+00D7> log(Likelihood) = -108.58\n",
      "Standardized solution\n"
     ]
    },
    {
     "name": "stdout",
     "output_type": "stream",
     "text": [
      "\n",
      "\n",
      "|                  |   a1|c1 |   e1|\n",
      "|:-----------------|----:|:--|----:|\n",
      "|cbcl_scr_07_ocd_r | 0.72|.  | 0.69|\n"
     ]
    },
    {
     "name": "stderr",
     "output_type": "stream",
     "text": [
      "All variables continuous\n",
      "treating data as raw\n",
      "Running ACE with 4 parameters\n",
      "ACE -2 <U+00D7> log(Likelihood) = 531.81\n",
      "Standardized solution\n"
     ]
    },
    {
     "name": "stdout",
     "output_type": "stream",
     "text": [
      "\n",
      "\n",
      "|                     |   a1|   c1|   e1|\n",
      "|:--------------------|----:|----:|----:|\n",
      "|cbcl_scr_07_stress_r | 0.73| 0.23| 0.64|\n"
     ]
    },
    {
     "name": "stderr",
     "output_type": "stream",
     "text": [
      "All variables continuous\n",
      "treating data as raw\n",
      "Running ACE with 4 parameters\n",
      "ACE -2 <U+00D7> log(Likelihood) = 1852.86\n",
      "Standardized solution\n"
     ]
    },
    {
     "name": "stdout",
     "output_type": "stream",
     "text": [
      "\n",
      "\n",
      "|      |  a1|   c1|   e1|\n",
      "|:-----|---:|----:|----:|\n",
      "|RAVLT | 0.6| 0.48| 0.64|\n"
     ]
    },
    {
     "name": "stderr",
     "output_type": "stream",
     "text": [
      "All variables continuous\n",
      "treating data as raw\n",
      "Running ACE with 4 parameters\n",
      "ACE -2 <U+00D7> log(Likelihood) = 768.32\n",
      "Standardized solution\n"
     ]
    },
    {
     "name": "stdout",
     "output_type": "stream",
     "text": [
      "\n",
      "\n",
      "|              |   a1|c1 |   e1|\n",
      "|:-------------|----:|:--|----:|\n",
      "|pea_wiscv_trs | 0.72|.  | 0.69|\n"
     ]
    },
    {
     "name": "stderr",
     "output_type": "stream",
     "text": [
      "All variables continuous\n",
      "treating data as raw\n",
      "Running ACE with 4 parameters\n",
      "ACE -2 <U+00D7> log(Likelihood) = -2712.23\n",
      "Standardized solution\n"
     ]
    },
    {
     "name": "stdout",
     "output_type": "stream",
     "text": [
      "\n",
      "\n",
      "|                     |   a1|   c1|  e1|\n",
      "|:--------------------|----:|----:|---:|\n",
      "|lmt_scr_perc_correct | 0.39| 0.46| 0.8|\n"
     ]
    },
    {
     "name": "stderr",
     "output_type": "stream",
     "text": [
      "All variables continuous\n",
      "treating data as raw\n",
      "Running ACE with 4 parameters\n",
      "ACE -2 <U+00D7> log(Likelihood) = 800.55\n",
      "Standardized solution\n"
     ]
    },
    {
     "name": "stdout",
     "output_type": "stream",
     "text": [
      "\n",
      "\n",
      "|               |a1 |   c1|   e1|\n",
      "|:--------------|:--|----:|----:|\n",
      "|bis_ss_bis_sum |.  | 0.48| 0.88|\n"
     ]
    },
    {
     "name": "stderr",
     "output_type": "stream",
     "text": [
      "All variables continuous\n",
      "treating data as raw\n",
      "Running ACE with 4 parameters\n",
      "ACE -2 <U+00D7> log(Likelihood) = 530.63\n",
      "Standardized solution\n"
     ]
    },
    {
     "name": "stdout",
     "output_type": "stream",
     "text": [
      "\n",
      "\n",
      "|              |   a1|   c1|  e1|\n",
      "|:-------------|----:|----:|---:|\n",
      "|bis_ss_bas_rr | 0.59| 0.11| 0.8|\n"
     ]
    },
    {
     "name": "stderr",
     "output_type": "stream",
     "text": [
      "All variables continuous\n",
      "treating data as raw\n",
      "Running ACE with 4 parameters\n",
      "ACE -2 <U+00D7> log(Likelihood) = 515.09\n",
      "Standardized solution\n"
     ]
    },
    {
     "name": "stdout",
     "output_type": "stream",
     "text": [
      "\n",
      "\n",
      "|                 |   a1|   c1|   e1|\n",
      "|:----------------|----:|----:|----:|\n",
      "|bis_ss_bas_drive | 0.19| 0.48| 0.86|\n"
     ]
    },
    {
     "name": "stderr",
     "output_type": "stream",
     "text": [
      "All variables continuous\n",
      "treating data as raw\n",
      "Running ACE with 4 parameters\n",
      "ACE -2 <U+00D7> log(Likelihood) = 367.66\n",
      "Standardized solution\n"
     ]
    },
    {
     "name": "stdout",
     "output_type": "stream",
     "text": [
      "\n",
      "\n",
      "|              |a1 |   c1|   e1|\n",
      "|:-------------|:--|----:|----:|\n",
      "|bis_ss_bas_fs |.  | 0.48| 0.88|\n"
     ]
    },
    {
     "name": "stderr",
     "output_type": "stream",
     "text": [
      "All variables continuous\n",
      "treating data as raw\n",
      "Running ACE with 4 parameters\n",
      "ACE -2 <U+00D7> log(Likelihood) = 256.53\n",
      "Standardized solution\n"
     ]
    },
    {
     "name": "stdout",
     "output_type": "stream",
     "text": [
      "\n",
      "\n",
      "|                 |   a1|   c1|   e1|\n",
      "|:----------------|----:|----:|----:|\n",
      "|anthroheightcalc | 0.86| 0.45| 0.26|\n"
     ]
    }
   ],
   "source": [
    "results = data.frame()\n",
    "for (i in 1:length(measures)){\n",
    "    selDVs = paste0(measures[i], c('1', '2'))\n",
    "    # Not working until a new version of OpenMx releases the updated dataset…\n",
    "    dz = nl[nl$zyg == 2, selDVs]\n",
    "    mz = nl[nl$zyg == 1, selDVs]\n",
    "    # Run ACE model\n",
    "    m1 = umxACE('ACE', selDVs = selDVs, dzData = dz, mzData = mz, intervals=T)\n",
    "    # Extract heritability\n",
    "    V = sum(as.numeric(m1$output$estimate[c('a_r1c1', 'c_r1c1', 'e_r1c1')])^2)\n",
    "    results[measures[i], 'A'] = as.numeric(m1$output$estimate['a_r1c1']^2)/V\n",
    "    results[measures[i], 'C'] = as.numeric(m1$output$estimate['c_r1c1']^2)/V\n",
    "    results[measures[i], 'E'] = as.numeric(m1$output$estimate['e_r1c1']^2)/V\n",
    "}"
   ]
  },
  {
   "cell_type": "code",
   "execution_count": 15,
   "metadata": {},
   "outputs": [
    {
     "data": {
      "text/html": [
       "0.735236613982348"
      ],
      "text/latex": [
       "0.735236613982348"
      ],
      "text/markdown": [
       "0.735236613982348"
      ],
      "text/plain": [
       "[1] 0.7352366"
      ]
     },
     "metadata": {},
     "output_type": "display_data"
    }
   ],
   "source": [
    "as.numeric(m1$output$estimate['a_r1c1']^2)/V"
   ]
  },
  {
   "cell_type": "code",
   "execution_count": 7,
   "metadata": {},
   "outputs": [
    {
     "name": "stderr",
     "output_type": "stream",
     "text": [
      "Running ACE with 4 parameters\n",
      "### Computed CIs in model ACE\n"
     ]
    },
    {
     "name": "stdout",
     "output_type": "stream",
     "text": [
      "               lbound estimate ubound lbound Code ubound Code\n",
      "top.a_std[1,1]  0.750    0.857     NA           0          NA\n",
      "top.c_std[1,1]     NA    0.446  0.611          NA           0\n",
      "top.e_std[1,1]  0.222    0.256  0.297           0           0\n",
      "expMean_r1c1    7.623    7.665  7.707           0           0\n",
      "a_r1c1          0.299    0.340  0.386           0           0\n",
      "c_r1c1             NA    0.177  0.252          NA           0\n",
      "e_r1c1          0.091    0.101  0.116          10           3\n",
      "[1] \"NA: \"\n",
      "[1] \"10: \"\n",
      "[1] \"3: The nonlinear constraints and bounds could not be satisfied. The problem may have no feasible solution.\"\n"
     ]
    }
   ],
   "source": [
    "umxCI(m1, run='yes')"
   ]
  },
  {
   "cell_type": "code",
   "execution_count": 155,
   "metadata": {},
   "outputs": [
    {
     "data": {},
     "metadata": {},
     "output_type": "display_data"
    },
    {
     "data": {
      "image/png": "[encoded data removed]",
      "text/plain": [
       "plot without title"
      ]
     },
     "metadata": {},
     "output_type": "display_data"
    }
   ],
   "source": [
    "library(ggplot2)\n",
    "results$task = row.names(results)\n",
    "ggplot(data=results, aes(x=task, y=A)) + geom_bar(stat='identity') + coord_flip()"
   ]
  },
  {
   "cell_type": "markdown",
   "metadata": {},
   "source": [
    "## 2.0 Data"
   ]
  },
  {
   "cell_type": "code",
   "execution_count": 2,
   "metadata": {},
   "outputs": [],
   "source": [
    "nda_file = '/space/syn09/1/data/rzablocki/ABCD/ABCD\\ release\\ 2.0 Rds\\ (beta)/nda18_beta.Rds'\n",
    "nda = readRDS(nda_file)\n",
    "nda = nda[nda$eventname=='baseline_year_1_arm_1', ] # Subset on baseline dat"
   ]
  },
  {
   "cell_type": "code",
   "execution_count": 9,
   "metadata": {},
   "outputs": [],
   "source": [
    "gfa = read.table('~/code/ABCD/GWAS_language/PRS/2.0_data/PsychGFA_ALL_Robust20_Factors.csv', header=TRUE, sep=',')\n",
    "# gfa = read.table('/home/rloughna/data/ABCD/mental_health/PsychGFA_NOKSADS_Factors.csv', header=TRUE, sep=',')\n",
    "# Rename subject ID col to match nda dataframe\n",
    "colnames(gfa)[colnames(gfa)=='subjid.complete.....TRUE..'] <- 'src_subject_id'"
   ]
  },
  {
   "cell_type": "code",
   "execution_count": 20,
   "metadata": {},
   "outputs": [],
   "source": [
    "zygosity = read.table('~/data/ABCD/heritability/twins/2.0/ABCD_release_2.0_r_Zygosity_pair.txt', header=TRUE)"
   ]
  },
  {
   "cell_type": "code",
   "execution_count": 10,
   "metadata": {},
   "outputs": [],
   "source": [
    "colnames(gfa) = gsub('RGFA', 'GFA', colnames(gfa))"
   ]
  },
  {
   "cell_type": "code",
   "execution_count": 11,
   "metadata": {},
   "outputs": [
    {
     "data": {
      "image/png": "[encoded data removed]",
      "text/plain": [
       "Plot with title \"Histogram of gfa[, \"GFA3\"]\""
      ]
     },
     "metadata": {},
     "output_type": "display_data"
    }
   ],
   "source": [
    "options(repr.plot.width=12, repr.plot.height=3)\n",
    "par(mfrow=c(1,4)) \n",
    "hist(gfa[, 'GFA1'], breaks=20)\n",
    "hist(gfa[, 'GFA2'], breaks=20)\n",
    "hist(gfa[, 'GFA3'], breaks=20)"
   ]
  },
  {
   "cell_type": "code",
   "execution_count": 12,
   "metadata": {},
   "outputs": [],
   "source": [
    "rank_transform <- function(variable_col){\n",
    "    # Create New dataframe\n",
    "    df = data.frame(unorm=variable_col, row.names=1:length(variable_col))\n",
    "    # Order new dataframe on factor\n",
    "    df <- data.frame(unorm=df[order(df$unorm),], row.names=order(df$unorm))\n",
    "    # Create new standard normal column (sorted) - these are new qunatile transformed\n",
    "    df$normal = sort(rnorm(dim(df)[1]))\n",
    "    # Return back qunatile transformed in original order\n",
    "    return(df[order(as.numeric(row.names(df))), 'normal'])\n",
    "}"
   ]
  },
  {
   "cell_type": "code",
   "execution_count": 13,
   "metadata": {},
   "outputs": [],
   "source": [
    "gfa[, 'GFA1'] = rank_transform(gfa[,'GFA1'])\n",
    "gfa[, 'GFA2'] = rank_transform(gfa[,'GFA2'])\n",
    "gfa[, 'GFA3'] = rank_transform(gfa[,'GFA3'])\n",
    "gfa[, 'GFA4'] = rank_transform(gfa[,'GFA4'])\n",
    "gfa[, 'GFA5'] = rank_transform(gfa[,'GFA5'])\n",
    "gfa[, 'GFA6'] = rank_transform(gfa[,'GFA6'])"
   ]
  },
  {
   "cell_type": "code",
   "execution_count": 14,
   "metadata": {},
   "outputs": [
    {
     "data": {
      "image/png": "[encoded data removed]",
      "text/plain": [
       "Plot with title \"Histogram of gfa[, \"GFA4\"]\""
      ]
     },
     "metadata": {},
     "output_type": "display_data"
    }
   ],
   "source": [
    "options(repr.plot.width=12, repr.plot.height=3)\n",
    "par(mfrow=c(1,4)) \n",
    "hist(gfa[, 'GFA1'], breaks=20)\n",
    "hist(gfa[, 'GFA2'], breaks=20)\n",
    "hist(gfa[, 'GFA3'], breaks=20)\n",
    "hist(gfa[, 'GFA4'], breaks=20)"
   ]
  },
  {
   "cell_type": "code",
   "execution_count": 15,
   "metadata": {},
   "outputs": [],
   "source": [
    "nda = join(nda, gfa, by='src_subject_id')"
   ]
  },
  {
   "cell_type": "code",
   "execution_count": 24,
   "metadata": {},
   "outputs": [],
   "source": [
    "row.names(nda) = nda$src_subject_id"
   ]
  },
  {
   "cell_type": "code",
   "execution_count": 33,
   "metadata": {},
   "outputs": [],
   "source": [
    "# Remove siblings\n",
    "zygosity = zygosity[zygosity$Zygosity != 'Sib',]"
   ]
  },
  {
   "cell_type": "markdown",
   "metadata": {},
   "source": [
    "## Construct dataframe for UXM"
   ]
  },
  {
   "cell_type": "code",
   "execution_count": 237,
   "metadata": {},
   "outputs": [],
   "source": [
    "model = lm(GFA1 ~ asr_scr_totprob_r, data=nda)\n",
    "nda[names(model$residuals), 'GFA1_reg'] = as.numeric(model$residuals)"
   ]
  },
  {
   "cell_type": "code",
   "execution_count": 238,
   "metadata": {},
   "outputs": [],
   "source": [
    "measures = c('GFA1_reg', paste0('GFA', seq(1,4)), 'anthro_height_calc', 'anthro_bmi_calc', 'nihtbx_fluidcomp_uncorrected', 'nihtbx_cryst_uncorrected')\n",
    "nl = data.frame(zyg=(zygosity$Zygosity=='Dizygotic') + 1)\n",
    "for (measure in measures){\n",
    "#     colnames(nl) = paste0(measure, '_', seq(1,2))\n",
    "    nl[, paste0(measure, '_1')] = nda[as.character(zygosity$IID1), measure]\n",
    "    nl[, paste0(measure, '_2')] = nda[as.character(zygosity$IID2), measure]\n",
    "    # Code monozygotic as 1 and dizygotic as 2\n",
    "}\n",
    "nl= nl[complete.cases(nl), ]"
   ]
  },
  {
   "cell_type": "code",
   "execution_count": 239,
   "metadata": {},
   "outputs": [
    {
     "name": "stderr",
     "output_type": "stream",
     "text": [
      "All variables continuous\n",
      "treating data as raw\n",
      "Running ACE with 4 parameters\n",
      "ACE -2 <U+00D7> log(Likelihood) = 4089.34\n",
      "Standardized solution\n"
     ]
    },
    {
     "name": "stdout",
     "output_type": "stream",
     "text": [
      "\n",
      "\n",
      "|          |   a1|c1 |   e1|\n",
      "|:---------|----:|:--|----:|\n",
      "|GFA1_reg_ | 0.78|.  | 0.62|\n"
     ]
    },
    {
     "name": "stderr",
     "output_type": "stream",
     "text": [
      "Running ACE with 4 parameters\n",
      "### Computed CIs in model ACE\n"
     ]
    },
    {
     "name": "stdout",
     "output_type": "stream",
     "text": [
      "               lbound estimate ubound lbound Code ubound Code\n",
      "top.a_std[1,1]  0.681    0.783  0.816           0           0\n",
      "top.c_std[1,1]  0.000    0.000  0.350           0           0\n",
      "top.e_std[1,1]  0.578    0.622  0.668           0           0\n",
      "expMean_r1c1    0.092    0.136  0.181           0           0\n",
      "a_r1c1          0.547    0.632     NA           0          NA\n",
      "c_r1c1          0.000    0.000  0.284           0           0\n",
      "e_r1c1          0.452    0.502  0.538          10           0\n",
      "[1] \"10: \"\n",
      "[1] \"NA: \"\n"
     ]
    },
    {
     "name": "stderr",
     "output_type": "stream",
     "text": [
      "All variables continuous\n",
      "treating data as raw\n",
      "Running ACE with 4 parameters\n",
      "ACE -2 <U+00D7> log(Likelihood) = 4557.74\n",
      "Standardized solution\n"
     ]
    },
    {
     "name": "stdout",
     "output_type": "stream",
     "text": [
      "\n",
      "\n",
      "|      |   a1|   c1|   e1|\n",
      "|:-----|----:|----:|----:|\n",
      "|GFA1_ | 0.68| 0.53| 0.51|\n"
     ]
    },
    {
     "name": "stderr",
     "output_type": "stream",
     "text": [
      "Running ACE with 4 parameters\n",
      "### Computed CIs in model ACE\n"
     ]
    },
    {
     "name": "stdout",
     "output_type": "stream",
     "text": [
      "               lbound estimate ubound lbound Code ubound Code\n",
      "top.a_std[1,1]  0.572    0.679  0.775           0           0\n",
      "top.c_std[1,1]  0.385    0.526  0.627           0           0\n",
      "top.e_std[1,1]  0.474    0.512  0.555           0           0\n",
      "expMean_r1c1    0.103    0.161  0.218           0           0\n",
      "a_r1c1          0.558    0.664  0.760           0           0\n",
      "c_r1c1          0.373    0.514  0.622           0           0\n",
      "e_r1c1          0.451    0.501  0.540          10           0\n",
      "[1] \"10: \"\n"
     ]
    },
    {
     "name": "stderr",
     "output_type": "stream",
     "text": [
      "All variables continuous\n",
      "treating data as raw\n",
      "Running ACE with 4 parameters\n",
      "ACE -2 <U+00D7> log(Likelihood) = 4986.14\n",
      "Standardized solution\n"
     ]
    },
    {
     "name": "stdout",
     "output_type": "stream",
     "text": [
      "\n",
      "\n",
      "|      |   a1|   c1|   e1|\n",
      "|:-----|----:|----:|----:|\n",
      "|GFA2_ | 0.42| 0.31| 0.86|\n"
     ]
    },
    {
     "name": "stderr",
     "output_type": "stream",
     "text": [
      "Running ACE with 4 parameters\n",
      "### Computed CIs in model ACE\n"
     ]
    },
    {
     "name": "stdout",
     "output_type": "stream",
     "text": [
      "               lbound estimate ubound lbound Code ubound Code\n",
      "top.a_std[1,1]     NA    0.417  0.600          NA           0\n",
      "top.c_std[1,1]  0.000    0.308  0.510           0           0\n",
      "top.e_std[1,1]  0.800    0.855     NA           0          NA\n",
      "expMean_r1c1   -0.076   -0.025  0.025           0           0\n",
      "a_r1c1          0.000    0.411  0.598           0           0\n",
      "c_r1c1          0.000    0.304  0.507           0           0\n",
      "e_r1c1          0.789    0.844  0.904          10           0\n",
      "[1] \"NA: \"\n",
      "[1] \"10: \"\n"
     ]
    },
    {
     "name": "stderr",
     "output_type": "stream",
     "text": [
      "All variables continuous\n",
      "treating data as raw\n",
      "Running ACE with 4 parameters\n",
      "ACE -2 <U+00D7> log(Likelihood) = 4836.13\n",
      "Standardized solution\n"
     ]
    },
    {
     "name": "stdout",
     "output_type": "stream",
     "text": [
      "\n",
      "\n",
      "|      |   a1|c1 |   e1|\n",
      "|:-----|----:|:--|----:|\n",
      "|GFA3_ | 0.56|.  | 0.83|\n"
     ]
    },
    {
     "name": "stderr",
     "output_type": "stream",
     "text": [
      "Running ACE with 4 parameters\n",
      "### Computed CIs in model ACE\n"
     ]
    },
    {
     "name": "stdout",
     "output_type": "stream",
     "text": [
      "               lbound estimate ubound lbound Code ubound Code\n",
      "top.a_std[1,1]  0.391    0.558     NA           0          NA\n",
      "top.c_std[1,1]     NA    0.000  0.329          NA           0\n",
      "top.e_std[1,1]  0.778    0.830  0.881           0           0\n",
      "expMean_r1c1   -0.047    0.001  0.050           0           0\n",
      "a_r1c1          0.369    0.529     NA           0          NA\n",
      "c_r1c1          0.000    0.000  0.312           0           0\n",
      "e_r1c1          0.707    0.786  0.837          10           0\n",
      "[1] \"NA: \"\n",
      "[1] \"10: \"\n"
     ]
    },
    {
     "name": "stderr",
     "output_type": "stream",
     "text": [
      "All variables continuous\n",
      "treating data as raw\n",
      "Running ACE with 4 parameters\n",
      "ACE -2 <U+00D7> log(Likelihood) = 4895.03\n",
      "Standardized solution\n"
     ]
    },
    {
     "name": "stdout",
     "output_type": "stream",
     "text": [
      "\n",
      "\n",
      "|      |   a1|  c1|   e1|\n",
      "|:-----|----:|---:|----:|\n",
      "|GFA4_ | 0.58| 0.2| 0.79|\n"
     ]
    },
    {
     "name": "stderr",
     "output_type": "stream",
     "text": [
      "Running ACE with 4 parameters\n",
      "### Computed CIs in model ACE\n"
     ]
    },
    {
     "name": "stdout",
     "output_type": "stream",
     "text": [
      "               lbound estimate ubound lbound Code ubound Code\n",
      "top.a_std[1,1]  0.325    0.584  0.677           0           0\n",
      "top.c_std[1,1]  0.000    0.196  0.463           0           0\n",
      "top.e_std[1,1]  0.736    0.788  0.844           0           0\n",
      "expMean_r1c1   -0.092   -0.041  0.010           0           0\n",
      "a_r1c1             NA    0.567  0.669          NA           0\n",
      "c_r1c1          0.000    0.191  0.452           6           3\n",
      "e_r1c1          0.689    0.765  0.821          10           6\n",
      "[1] \"NA: \"\n",
      "[1] \"6: The model does not satisfy the first-order optimality conditions to the required accuracy, and no improved point for the merit function could be found during the final linesearch (Mx status RED)\"\n",
      "[1] \"10: \"\n",
      "[1] \"3: The nonlinear constraints and bounds could not be satisfied. The problem may have no feasible solution.\"\n"
     ]
    },
    {
     "name": "stderr",
     "output_type": "stream",
     "text": [
      "All variables continuous\n",
      "treating data as raw\n",
      "Running ACE with 4 parameters\n",
      "ACE -2 <U+00D7> log(Likelihood) = 8208.89\n",
      "Standardized solution\n"
     ]
    },
    {
     "name": "stdout",
     "output_type": "stream",
     "text": [
      "\n",
      "\n",
      "|                    |   a1|   c1|   e1|\n",
      "|:-------------------|----:|----:|----:|\n",
      "|anthro_height_calc_ | 0.88| 0.39| 0.28|\n"
     ]
    },
    {
     "name": "stderr",
     "output_type": "stream",
     "text": [
      "Running ACE with 4 parameters\n",
      "### Computed CIs in model ACE\n"
     ]
    },
    {
     "name": "stdout",
     "output_type": "stream",
     "text": [
      "               lbound estimate ubound lbound Code ubound Code\n",
      "top.a_std[1,1]  0.813    0.877  0.942           0           0\n",
      "top.c_std[1,1]  0.180    0.391  0.510           0           0\n",
      "top.e_std[1,1]  0.259    0.281  0.306           0           0\n",
      "expMean_r1c1   55.270   55.453 55.636           0           0\n",
      "a_r1c1          2.483    2.670  2.871           0           0\n",
      "c_r1c1             NA    1.190  1.584          NA           0\n",
      "e_r1c1          0.797    0.856  0.923          10           3\n",
      "[1] \"NA: \"\n",
      "[1] \"10: \"\n",
      "[1] \"3: The nonlinear constraints and bounds could not be satisfied. The problem may have no feasible solution.\"\n"
     ]
    },
    {
     "name": "stderr",
     "output_type": "stream",
     "text": [
      "All variables continuous\n",
      "treating data as raw\n",
      "Running ACE with 4 parameters\n",
      "ACE -2 <U+00D7> log(Likelihood) = 9023.71\n",
      "Standardized solution\n"
     ]
    },
    {
     "name": "stdout",
     "output_type": "stream",
     "text": [
      "\n",
      "\n",
      "|                 |   a1|c1 |  e1|\n",
      "|:----------------|----:|:--|---:|\n",
      "|anthro_bmi_calc_ | 0.92|.  | 0.4|\n"
     ]
    },
    {
     "name": "stderr",
     "output_type": "stream",
     "text": [
      "Running ACE with 4 parameters\n",
      "### Computed CIs in model ACE\n"
     ]
    },
    {
     "name": "stdout",
     "output_type": "stream",
     "text": [
      "               lbound estimate ubound lbound Code ubound Code\n",
      "top.a_std[1,1]  0.844    0.918  0.930           0           0\n",
      "top.c_std[1,1]  0.000    0.000  0.355           0           0\n",
      "top.e_std[1,1]  0.367    0.397  0.430           0           0\n",
      "expMean_r1c1   17.793   17.997 18.201           0           0\n",
      "a_r1c1          3.076    3.220  3.369           0           0\n",
      "c_r1c1          0.000    0.000  1.263           0           0\n",
      "e_r1c1          1.253    1.392  1.497          10           0\n",
      "[1] \"10: \"\n"
     ]
    },
    {
     "name": "stderr",
     "output_type": "stream",
     "text": [
      "All variables continuous\n",
      "treating data as raw\n",
      "Running ACE with 4 parameters\n",
      "ACE -2 <U+00D7> log(Likelihood) = 13249.9\n",
      "Standardized solution\n"
     ]
    },
    {
     "name": "stdout",
     "output_type": "stream",
     "text": [
      "\n",
      "\n",
      "|                              |  a1|   c1|   e1|\n",
      "|:-----------------------------|---:|----:|----:|\n",
      "|nihtbx_fluidcomp_uncorrected_ | 0.6| 0.47| 0.64|\n"
     ]
    },
    {
     "name": "stderr",
     "output_type": "stream",
     "text": [
      "Running ACE with 4 parameters\n",
      "### Computed CIs in model ACE\n"
     ]
    },
    {
     "name": "stdout",
     "output_type": "stream",
     "text": [
      "               lbound estimate ubound lbound Code ubound Code\n",
      "top.a_std[1,1]  0.431    0.603  0.735           0           0\n",
      "top.c_std[1,1]  0.271    0.473  0.603           0           0\n",
      "top.e_std[1,1]  0.596    0.643  0.693           0           0\n",
      "expMean_r1c1   91.712   92.306 92.900           0           0\n",
      "a_r1c1             NA    6.328  7.757          NA           0\n",
      "c_r1c1             NA    4.964  6.402          NA           3\n",
      "e_r1c1          6.074    6.749  7.266          10           3\n",
      "[1] \"NA: \"\n",
      "[1] \"10: \"\n",
      "[1] \"3: The nonlinear constraints and bounds could not be satisfied. The problem may have no feasible solution.\"\n"
     ]
    },
    {
     "name": "stderr",
     "output_type": "stream",
     "text": [
      "All variables continuous\n",
      "treating data as raw\n",
      "Running ACE with 4 parameters\n",
      "ACE -2 <U+00D7> log(Likelihood) = 11241.86\n",
      "Standardized solution\n"
     ]
    },
    {
     "name": "stdout",
     "output_type": "stream",
     "text": [
      "\n",
      "\n",
      "|                          |   a1|   c1|   e1|\n",
      "|:-------------------------|----:|----:|----:|\n",
      "|nihtbx_cryst_uncorrected_ | 0.64| 0.54| 0.54|\n"
     ]
    },
    {
     "name": "stderr",
     "output_type": "stream",
     "text": [
      "Running ACE with 4 parameters\n",
      "### Computed CIs in model ACE\n"
     ]
    },
    {
     "name": "stdout",
     "output_type": "stream",
     "text": [
      "               lbound estimate ubound lbound Code ubound Code\n",
      "top.a_std[1,1]  0.519    0.640  0.745           0           0\n",
      "top.c_std[1,1]  0.409    0.545  0.644           0           0\n",
      "top.e_std[1,1]  0.501    0.542  0.586           0           0\n",
      "expMean_r1c1   85.830   86.196 86.562           0           0\n",
      "a_r1c1          3.239    4.007  4.675           0           0\n",
      "c_r1c1          2.528    3.410  4.091           0           0\n",
      "e_r1c1          3.051    3.390  3.652          10           0\n",
      "[1] \"10: \"\n"
     ]
    },
    {
     "data": {
      "text/html": [
       "<table>\n",
       "<thead><tr><th></th><th scope=col>A</th><th scope=col>C</th><th scope=col>E</th><th scope=col>A_lb</th><th scope=col>A_ub</th></tr></thead>\n",
       "<tbody>\n",
       "\t<tr><th scope=row>GFA1_reg</th><td>0.6134918   </td><td>2.007926e-10</td><td>0.38650817  </td><td>0.4641469   </td><td>0.6663300   </td></tr>\n",
       "\t<tr><th scope=row>GFA1</th><td>0.4608129   </td><td>2.766996e-01</td><td>0.26248751  </td><td>0.3266490   </td><td>0.6008779   </td></tr>\n",
       "\t<tr><th scope=row>GFA2</th><td>0.1735708   </td><td>9.484524e-02</td><td>0.73158396  </td><td>       NA   </td><td>0.3595002   </td></tr>\n",
       "\t<tr><th scope=row>GFA3</th><td>0.3118743   </td><td>9.547924e-11</td><td>0.68812568  </td><td>0.1526143   </td><td>       NA   </td></tr>\n",
       "\t<tr><th scope=row>GFA4</th><td>0.3406250   </td><td>3.856919e-02</td><td>0.62080579  </td><td>0.1054417   </td><td>0.4588194   </td></tr>\n",
       "\t<tr><th scope=row>anthro_height_calc</th><td>0.7683685   </td><td>1.526157e-01</td><td>0.07901578  </td><td>0.6611420   </td><td>0.8880486   </td></tr>\n",
       "\t<tr><th scope=row>anthro_bmi_calc</th><td>0.8424635   </td><td>1.124855e-09</td><td>0.15753647  </td><td>0.7128101   </td><td>0.8655278   </td></tr>\n",
       "\t<tr><th scope=row>nihtbx_fluidcomp_uncorrected</th><td>0.3632724   </td><td>2.235616e-01</td><td>0.41316591  </td><td>0.1855484   </td><td>0.5395335   </td></tr>\n",
       "\t<tr><th scope=row>nihtbx_cryst_uncorrected</th><td>0.4099155   </td><td>2.967985e-01</td><td>0.29328598  </td><td>0.2692329   </td><td>0.5543285   </td></tr>\n",
       "</tbody>\n",
       "</table>\n"
      ],
      "text/latex": [
       "\\begin{tabular}{r|lllll}\n",
       "  & A & C & E & A\\_lb & A\\_ub\\\\\n",
       "\\hline\n",
       "\tGFA1\\_reg & 0.6134918    & 2.007926e-10 & 0.38650817   & 0.4641469    & 0.6663300   \\\\\n",
       "\tGFA1 & 0.4608129    & 2.766996e-01 & 0.26248751   & 0.3266490    & 0.6008779   \\\\\n",
       "\tGFA2 & 0.1735708    & 9.484524e-02 & 0.73158396   &        NA    & 0.3595002   \\\\\n",
       "\tGFA3 & 0.3118743    & 9.547924e-11 & 0.68812568   & 0.1526143    &        NA   \\\\\n",
       "\tGFA4 & 0.3406250    & 3.856919e-02 & 0.62080579   & 0.1054417    & 0.4588194   \\\\\n",
       "\tanthro\\_height\\_calc & 0.7683685    & 1.526157e-01 & 0.07901578   & 0.6611420    & 0.8880486   \\\\\n",
       "\tanthro\\_bmi\\_calc & 0.8424635    & 1.124855e-09 & 0.15753647   & 0.7128101    & 0.8655278   \\\\\n",
       "\tnihtbx\\_fluidcomp\\_uncorrected & 0.3632724    & 2.235616e-01 & 0.41316591   & 0.1855484    & 0.5395335   \\\\\n",
       "\tnihtbx\\_cryst\\_uncorrected & 0.4099155    & 2.967985e-01 & 0.29328598   & 0.2692329    & 0.5543285   \\\\\n",
       "\\end{tabular}\n"
      ],
      "text/markdown": [
       "\n",
       "| <!--/--> | A | C | E | A_lb | A_ub | \n",
       "|---|---|---|---|---|---|---|---|---|\n",
       "| GFA1_reg | 0.6134918    | 2.007926e-10 | 0.38650817   | 0.4641469    | 0.6663300    | \n",
       "| GFA1 | 0.4608129    | 2.766996e-01 | 0.26248751   | 0.3266490    | 0.6008779    | \n",
       "| GFA2 | 0.1735708    | 9.484524e-02 | 0.73158396   |        NA    | 0.3595002    | \n",
       "| GFA3 | 0.3118743    | 9.547924e-11 | 0.68812568   | 0.1526143    |        NA    | \n",
       "| GFA4 | 0.3406250    | 3.856919e-02 | 0.62080579   | 0.1054417    | 0.4588194    | \n",
       "| anthro_height_calc | 0.7683685    | 1.526157e-01 | 0.07901578   | 0.6611420    | 0.8880486    | \n",
       "| anthro_bmi_calc | 0.8424635    | 1.124855e-09 | 0.15753647   | 0.7128101    | 0.8655278    | \n",
       "| nihtbx_fluidcomp_uncorrected | 0.3632724    | 2.235616e-01 | 0.41316591   | 0.1855484    | 0.5395335    | \n",
       "| nihtbx_cryst_uncorrected | 0.4099155    | 2.967985e-01 | 0.29328598   | 0.2692329    | 0.5543285    | \n",
       "\n",
       "\n"
      ],
      "text/plain": [
       "                             A         C            E          A_lb     \n",
       "GFA1_reg                     0.6134918 2.007926e-10 0.38650817 0.4641469\n",
       "GFA1                         0.4608129 2.766996e-01 0.26248751 0.3266490\n",
       "GFA2                         0.1735708 9.484524e-02 0.73158396        NA\n",
       "GFA3                         0.3118743 9.547924e-11 0.68812568 0.1526143\n",
       "GFA4                         0.3406250 3.856919e-02 0.62080579 0.1054417\n",
       "anthro_height_calc           0.7683685 1.526157e-01 0.07901578 0.6611420\n",
       "anthro_bmi_calc              0.8424635 1.124855e-09 0.15753647 0.7128101\n",
       "nihtbx_fluidcomp_uncorrected 0.3632724 2.235616e-01 0.41316591 0.1855484\n",
       "nihtbx_cryst_uncorrected     0.4099155 2.967985e-01 0.29328598 0.2692329\n",
       "                             A_ub     \n",
       "GFA1_reg                     0.6663300\n",
       "GFA1                         0.6008779\n",
       "GFA2                         0.3595002\n",
       "GFA3                                NA\n",
       "GFA4                         0.4588194\n",
       "anthro_height_calc           0.8880486\n",
       "anthro_bmi_calc              0.8655278\n",
       "nihtbx_fluidcomp_uncorrected 0.5395335\n",
       "nihtbx_cryst_uncorrected     0.5543285"
      ]
     },
     "metadata": {},
     "output_type": "display_data"
    }
   ],
   "source": [
    "latents  = c(\"A\")\n",
    "results = data.frame()\n",
    "for (i in 1:length(measures)){\n",
    "    selDVs = paste0(measures[i], c('_1', '_2'))\n",
    "    # Not working until a new version of OpenMx releases the updated dataset…\n",
    "    dz = nl[nl$zyg == 2, selDVs]\n",
    "    mz = nl[nl$zyg == 1, selDVs]\n",
    "    # Run ACE model\n",
    "    m1 = umxACE('ACE', selDVs = selDVs, dzData = dz, mzData = mz)\n",
    "    # Extract heritability\n",
    "    V = sum(as.numeric(m1$output$estimate[c('a_r1c1', 'c_r1c1', 'e_r1c1')])^2)\n",
    "    results[measures[i], 'A'] = as.numeric(m1$output$estimate['a_r1c1']^2)/V\n",
    "    results[measures[i], 'C'] = as.numeric(m1$output$estimate['c_r1c1']^2)/V\n",
    "    results[measures[i], 'E'] = as.numeric(m1$output$estimate['e_r1c1']^2)/V\n",
    "    CIs = umxCI(m1, run = \"yes\")\n",
    "    results[measures[i], 'A_lb'] = CIs$output$confidenceIntervals['top.a_std[1,1]', 'lbound']^2\n",
    "    results[measures[i], 'A_ub'] = CIs$output$confidenceIntervals['top.a_std[1,1]', 'ubound']^2\n",
    "}\n",
    "results"
   ]
  },
  {
   "cell_type": "markdown",
   "metadata": {},
   "source": [
    "# <font color='red'>NEED CHECK CONFIDENCE INTERVALS</font>"
   ]
  },
  {
   "cell_type": "code",
   "execution_count": 240,
   "metadata": {},
   "outputs": [
    {
     "name": "stderr",
     "output_type": "stream",
     "text": [
      "Warning message:\n",
      "\"Removed 2 rows containing missing values (geom_errorbar).\""
     ]
    },
    {
     "data": {},
     "metadata": {},
     "output_type": "display_data"
    },
    {
     "data": {
      "image/png": "[encoded data removed]",
      "text/plain": [
       "plot without title"
      ]
     },
     "metadata": {},
     "output_type": "display_data"
    }
   ],
   "source": [
    "library(ggplot2)\n",
    "results$task = row.names(results)\n",
    "ggplot(data=results, aes(x=task, y=A)) + geom_bar(stat='identity') + coord_flip() + \n",
    "geom_errorbar( aes(x=task, ymin=A_lb, ymax=A_ub), width=0.4, colour=\"orange\", alpha=0.9, size=1.3)"
   ]
  },
  {
   "cell_type": "code",
   "execution_count": 192,
   "metadata": {},
   "outputs": [
    {
     "data": {
      "text/html": [
       "<table>\n",
       "<thead><tr><th></th><th scope=col>A</th><th scope=col>C</th><th scope=col>E</th><th scope=col>A_lb</th><th scope=col>A_ub</th><th scope=col>task</th></tr></thead>\n",
       "<tbody>\n",
       "\t<tr><th scope=row>GFA1</th><td>0.4608129                   </td><td>2.766996e-01                </td><td>0.26248751                  </td><td>0.3266490                   </td><td>0.6008779                   </td><td>GFA1                        </td></tr>\n",
       "\t<tr><th scope=row>GFA2</th><td>0.1735708                   </td><td>9.484524e-02                </td><td>0.73158396                  </td><td>       NA                   </td><td>0.3595002                   </td><td>GFA2                        </td></tr>\n",
       "\t<tr><th scope=row>GFA3</th><td>0.3118743                   </td><td>9.547924e-11                </td><td>0.68812568                  </td><td>0.1526143                   </td><td>       NA                   </td><td>GFA3                        </td></tr>\n",
       "\t<tr><th scope=row>GFA4</th><td>0.3406250                   </td><td>3.856919e-02                </td><td>0.62080579                  </td><td>0.1054417                   </td><td>0.4588194                   </td><td>GFA4                        </td></tr>\n",
       "\t<tr><th scope=row>anthro_height_calc</th><td>0.7683685                   </td><td>1.526157e-01                </td><td>0.07901578                  </td><td>0.6611420                   </td><td>0.8880486                   </td><td>anthro_height_calc          </td></tr>\n",
       "\t<tr><th scope=row>anthro_bmi_calc</th><td>0.8424635                   </td><td>1.124855e-09                </td><td>0.15753647                  </td><td>0.7128101                   </td><td>0.8655278                   </td><td>anthro_bmi_calc             </td></tr>\n",
       "\t<tr><th scope=row>nihtbx_fluidcomp_uncorrected</th><td>0.3632724                   </td><td>2.235616e-01                </td><td>0.41316591                  </td><td>0.1855484                   </td><td>0.5395335                   </td><td>nihtbx_fluidcomp_uncorrected</td></tr>\n",
       "\t<tr><th scope=row>nihtbx_cryst_uncorrected</th><td>0.4099155                   </td><td>2.967985e-01                </td><td>0.29328598                  </td><td>0.2692329                   </td><td>0.5543285                   </td><td>nihtbx_cryst_uncorrected    </td></tr>\n",
       "</tbody>\n",
       "</table>\n"
      ],
      "text/latex": [
       "\\begin{tabular}{r|llllll}\n",
       "  & A & C & E & A\\_lb & A\\_ub & task\\\\\n",
       "\\hline\n",
       "\tGFA1 & 0.4608129                    & 2.766996e-01                 & 0.26248751                   & 0.3266490                    & 0.6008779                    & GFA1                        \\\\\n",
       "\tGFA2 & 0.1735708                    & 9.484524e-02                 & 0.73158396                   &        NA                    & 0.3595002                    & GFA2                        \\\\\n",
       "\tGFA3 & 0.3118743                    & 9.547924e-11                 & 0.68812568                   & 0.1526143                    &        NA                    & GFA3                        \\\\\n",
       "\tGFA4 & 0.3406250                    & 3.856919e-02                 & 0.62080579                   & 0.1054417                    & 0.4588194                    & GFA4                        \\\\\n",
       "\tanthro\\_height\\_calc & 0.7683685                        & 1.526157e-01                     & 0.07901578                       & 0.6611420                        & 0.8880486                        & anthro\\_height\\_calc          \\\\\n",
       "\tanthro\\_bmi\\_calc & 0.8424635                        & 1.124855e-09                     & 0.15753647                       & 0.7128101                        & 0.8655278                        & anthro\\_bmi\\_calc             \\\\\n",
       "\tnihtbx\\_fluidcomp\\_uncorrected & 0.3632724                        & 2.235616e-01                     & 0.41316591                       & 0.1855484                        & 0.5395335                        & nihtbx\\_fluidcomp\\_uncorrected\\\\\n",
       "\tnihtbx\\_cryst\\_uncorrected & 0.4099155                        & 2.967985e-01                     & 0.29328598                       & 0.2692329                        & 0.5543285                        & nihtbx\\_cryst\\_uncorrected    \\\\\n",
       "\\end{tabular}\n"
      ],
      "text/markdown": [
       "\n",
       "| <!--/--> | A | C | E | A_lb | A_ub | task | \n",
       "|---|---|---|---|---|---|---|---|\n",
       "| GFA1 | 0.4608129                    | 2.766996e-01                 | 0.26248751                   | 0.3266490                    | 0.6008779                    | GFA1                         | \n",
       "| GFA2 | 0.1735708                    | 9.484524e-02                 | 0.73158396                   |        NA                    | 0.3595002                    | GFA2                         | \n",
       "| GFA3 | 0.3118743                    | 9.547924e-11                 | 0.68812568                   | 0.1526143                    |        NA                    | GFA3                         | \n",
       "| GFA4 | 0.3406250                    | 3.856919e-02                 | 0.62080579                   | 0.1054417                    | 0.4588194                    | GFA4                         | \n",
       "| anthro_height_calc | 0.7683685                    | 1.526157e-01                 | 0.07901578                   | 0.6611420                    | 0.8880486                    | anthro_height_calc           | \n",
       "| anthro_bmi_calc | 0.8424635                    | 1.124855e-09                 | 0.15753647                   | 0.7128101                    | 0.8655278                    | anthro_bmi_calc              | \n",
       "| nihtbx_fluidcomp_uncorrected | 0.3632724                    | 2.235616e-01                 | 0.41316591                   | 0.1855484                    | 0.5395335                    | nihtbx_fluidcomp_uncorrected | \n",
       "| nihtbx_cryst_uncorrected | 0.4099155                    | 2.967985e-01                 | 0.29328598                   | 0.2692329                    | 0.5543285                    | nihtbx_cryst_uncorrected     | \n",
       "\n",
       "\n"
      ],
      "text/plain": [
       "                             A         C            E          A_lb     \n",
       "GFA1                         0.4608129 2.766996e-01 0.26248751 0.3266490\n",
       "GFA2                         0.1735708 9.484524e-02 0.73158396        NA\n",
       "GFA3                         0.3118743 9.547924e-11 0.68812568 0.1526143\n",
       "GFA4                         0.3406250 3.856919e-02 0.62080579 0.1054417\n",
       "anthro_height_calc           0.7683685 1.526157e-01 0.07901578 0.6611420\n",
       "anthro_bmi_calc              0.8424635 1.124855e-09 0.15753647 0.7128101\n",
       "nihtbx_fluidcomp_uncorrected 0.3632724 2.235616e-01 0.41316591 0.1855484\n",
       "nihtbx_cryst_uncorrected     0.4099155 2.967985e-01 0.29328598 0.2692329\n",
       "                             A_ub      task                        \n",
       "GFA1                         0.6008779 GFA1                        \n",
       "GFA2                         0.3595002 GFA2                        \n",
       "GFA3                                NA GFA3                        \n",
       "GFA4                         0.4588194 GFA4                        \n",
       "anthro_height_calc           0.8880486 anthro_height_calc          \n",
       "anthro_bmi_calc              0.8655278 anthro_bmi_calc             \n",
       "nihtbx_fluidcomp_uncorrected 0.5395335 nihtbx_fluidcomp_uncorrected\n",
       "nihtbx_cryst_uncorrected     0.5543285 nihtbx_cryst_uncorrected    "
      ]
     },
     "metadata": {},
     "output_type": "display_data"
    }
   ],
   "source": [
    "results"
   ]
  },
  {
   "cell_type": "code",
   "execution_count": null,
   "metadata": {},
   "outputs": [],
   "source": []
  }
 ],
 "metadata": {
  "kernelspec": {
   "display_name": "R",
   "language": "R",
   "name": "ir"
  },
  "language_info": {
   "codemirror_mode": "r",
   "file_extension": ".r",
   "mimetype": "text/x-r-source",
   "name": "R",
   "pygments_lexer": "r",
   "version": "3.6.3"
  }
 },
 "nbformat": 4,
 "nbformat_minor": 2
}
