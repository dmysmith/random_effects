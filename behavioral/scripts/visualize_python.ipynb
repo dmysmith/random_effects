{
 "cells": [
  {
   "cell_type": "code",
   "execution_count": 134,
   "id": "5daeb968",
   "metadata": {},
   "outputs": [],
   "source": [
    "# import packages\n",
    "import seaborn as sns\n",
    "import numpy as np\n",
    "from scipy.io import loadmat\n",
    "import pandas as pd\n",
    "import json\n",
    "\n",
    "# define paths\n",
    "results_dir = \"/space/syn50/1/data/ABCD/d9smith/random_effects/behavioral/results/results_20220901/\";\n",
    "outpath = \"/home/d9smith/projects/random_effects/behavioral/results/plots/\";"
   ]
  },
  {
   "cell_type": "code",
   "execution_count": 25,
   "id": "67035785",
   "metadata": {
    "scrolled": true
   },
   "outputs": [],
   "source": [
    "params = loadmat(results_dir + 'model_parameters.mat')"
   ]
  },
  {
   "cell_type": "code",
   "execution_count": 27,
   "id": "15e1e0d7",
   "metadata": {},
   "outputs": [],
   "source": [
    "fstem_imaging = [item.astype(str).tolist()[0] for item in params['fstem_imaging'][0]]\n",
    "titles = [item.astype(str).tolist()[0] for item in params['titles'][0]]\n"
   ]
  },
  {
   "cell_type": "code",
   "execution_count": 112,
   "id": "d3e9c65a",
   "metadata": {},
   "outputs": [],
   "source": [
    "# make RandomEffects an array of arrays\n",
    "RandomEffects = [[char.astype(str).tolist() for char in item] for item in \\\n",
    "                 [item.ravel().tolist() for item in params['RandomEffects'][0]]]"
   ]
  },
  {
   "cell_type": "code",
   "execution_count": 113,
   "id": "9beafeea",
   "metadata": {},
   "outputs": [],
   "source": [
    "# not sure whether i need this?\n",
    "fstem_imaging[14] = 'na'"
   ]
  },
  {
   "cell_type": "code",
   "execution_count": 114,
   "id": "f20f565a",
   "metadata": {},
   "outputs": [],
   "source": [
    "# set up paths to results files\n",
    "results_file = [(results_dir + 'FEMA_wrapper_output_external_' + item + '.json') for item in fstem_imaging]\n",
    "sig2mat_file = [(results_dir + 'FEMA_wrapper_output_external_' + item + '_sig2mat.json') for item in fstem_imaging]"
   ]
  },
  {
   "cell_type": "code",
   "execution_count": 223,
   "id": "ce63a268",
   "metadata": {},
   "outputs": [],
   "source": [
    "# define a function for loading results\n",
    "def load_model(model_file, sig2mat_file, RandomEffects):\n",
    "    \"\"\"\n",
    "    Loads model and sig2mat from specified results files.\n",
    "    \n",
    "    arguments:\n",
    "    model_file     :  path to .json file where FEMA results are stored -- saved from bg_fema_wrapper.m\n",
    "    sig2mat_file   :  path to .json file where sig2mat is stored -- saved from bg_fema_wrapper.m\n",
    "    \"\"\"\n",
    "    model = pd.read_json(model_file)\n",
    "    with open(sig2mat_file) as f:\n",
    "        sig2mat = json.load(f)\n",
    "    sig2mat = [pd.DataFrame(s, columns = ['est', 'll', 'ul']) for s in sig2mat]\n",
    "    return model, sig2mat"
   ]
  },
  {
   "cell_type": "code",
   "execution_count": 227,
   "id": "2303db32",
   "metadata": {},
   "outputs": [],
   "source": [
    "model1, sig2mat1 = load_model(results_file[0], sig2mat_file[0], RandomEffects[0])\n",
    "model2, sig2mat2 = load_model(results_file[1], sig2mat_file[1], RandomEffects[1])"
   ]
  },
  {
   "cell_type": "code",
   "execution_count": 254,
   "id": "823506c8",
   "metadata": {},
   "outputs": [
    {
     "data": {
      "text/plain": [
       "[             est        ll        ul param\n",
       " 0   1.861891e-02  0.000000  0.113418     F\n",
       " 1   1.597047e-06  0.000000  0.063843     F\n",
       " 2   9.413678e-08  0.000000  0.060173     F\n",
       " 3   7.763962e-02  0.009771  0.156615     F\n",
       " 4   1.101109e-07  0.000000  0.060459     F\n",
       " 5   1.916694e-01  0.112563  0.283685     F\n",
       " 6   4.015486e-02  0.000000  0.123199     F\n",
       " 7   2.441212e-06  0.000000  0.085437     F\n",
       " 8   1.425210e-06  0.000000  0.076213     F\n",
       " 9   1.710894e-01  0.086296  0.269796     F\n",
       " 10  6.701431e-02  0.000000  0.151298     F\n",
       " 11  7.003925e-02  0.000000  0.175576     F,\n",
       "          est        ll        ul param\n",
       " 0   0.661609  0.574119  0.760794     A\n",
       " 1   0.162104  0.092408  0.242413     A\n",
       " 2   0.361693  0.283339  0.451507     A\n",
       " 3   0.206593  0.130976  0.293373     A\n",
       " 4   0.421741  0.340758  0.514396     A\n",
       " 5   0.331266  0.247511  0.426377     A\n",
       " 6   0.338222  0.260873  0.426640     A\n",
       " 7   0.690939  0.603539  0.790015     A\n",
       " 8   0.529776  0.446278  0.624901     A\n",
       " 9   0.513358  0.426473  0.611587     A\n",
       " 10  0.344021  0.263743  0.435713     A\n",
       " 11  0.848060  0.758813  0.948698     A,\n",
       "          est        ll        ul param\n",
       " 0   0.319772  0.274758  0.372527     E\n",
       " 1   0.837894  0.759490  0.925310     E\n",
       " 2   0.638307  0.567454  0.718077     E\n",
       " 3   0.715767  0.642113  0.798333     E\n",
       " 4   0.578259  0.510712  0.654652     E\n",
       " 5   0.477065  0.419436  0.542912     E\n",
       " 6   0.621624  0.552627  0.699505     E\n",
       " 7   0.309059  0.265308  0.360456     E\n",
       " 8   0.470223  0.410796  0.538239     E\n",
       " 9   0.315552  0.272203  0.366165     E\n",
       " 10  0.588964  0.521809  0.664909     E\n",
       " 11  0.081901  0.068758  0.098269     E]"
      ]
     },
     "execution_count": 254,
     "metadata": {},
     "output_type": "execute_result"
    }
   ],
   "source": [
    "for i in range(0,len(RandomEffects[0])-1):\n",
    "    sig2mat1[i]['param'] = RandomEffects[0][i][0]\n",
    "sig2mat1"
   ]
  },
  {
   "cell_type": "code",
   "execution_count": 252,
   "id": "02ee4622",
   "metadata": {},
   "outputs": [
    {
     "data": {
      "text/plain": [
       "3"
      ]
     },
     "execution_count": 252,
     "metadata": {},
     "output_type": "execute_result"
    }
   ],
   "source": [
    "len(RandomEffects[0])"
   ]
  },
  {
   "cell_type": "code",
   "execution_count": 238,
   "id": "2683ae8a",
   "metadata": {},
   "outputs": [
    {
     "data": {
      "text/plain": [
       "'E'"
      ]
     },
     "execution_count": 238,
     "metadata": {},
     "output_type": "execute_result"
    }
   ],
   "source": [
    "RandomEffects[0][0][0]\n",
    "RandomEffects[0][1][0]\n",
    "RandomEffects[0][2][0]"
   ]
  },
  {
   "cell_type": "code",
   "execution_count": 220,
   "id": "6bda5baa",
   "metadata": {},
   "outputs": [
    {
     "data": {
      "text/plain": [
       "<AxesSubplot:xlabel='est', ylabel='est'>"
      ]
     },
     "execution_count": 220,
     "metadata": {},
     "output_type": "execute_result"
    },
    {
     "data": {
      "image/png": "[encoded data removed]",
      "text/plain": [
       "<Figure size 640x480 with 1 Axes>"
      ]
     },
     "metadata": {},
     "output_type": "display_data"
    }
   ],
   "source": [
    "sns.scatterplot(x = sig2mat1[1]['est'], y = sig2mat2[1]['est'])"
   ]
  },
  {
   "cell_type": "code",
   "execution_count": 131,
   "id": "00f5a04e",
   "metadata": {},
   "outputs": [],
   "source": [
    "# function to compare two models\n",
    "def compare_models(model1, model2, fstem_imaging, titles):\n",
    "    \"\"\"\n",
    "    Visualize FEMA random effects estimates with confidence intervals.\n",
    "    \n",
    "    arguments:\n",
    "    model1          :    model to plot on x axis\n",
    "    model2          :    model to plot on y axis\n",
    "    fstem_imaging   :    list of short model names\n",
    "    titles          :    list of long model names\n",
    "    \n",
    "    \"\"\"\n",
    "    i = fstem_imaging.index(\"model1\")\n",
    "    j = fstem_imaging.index(\"model2\")\n",
    "\n",
    "    "
   ]
  },
  {
   "cell_type": "code",
   "execution_count": 145,
   "id": "66c4a2dc",
   "metadata": {},
   "outputs": [
    {
     "name": "stdout",
     "output_type": "stream",
     "text": [
      "Hello World\n"
     ]
    }
   ],
   "source": [
    "compare_models(\"model1\", \"model2\", fstem_imaging, titles)"
   ]
  },
  {
   "cell_type": "code",
   "execution_count": 130,
   "id": "f7412c1c",
   "metadata": {},
   "outputs": [
    {
     "name": "stdout",
     "output_type": "stream",
     "text": [
      "Hello World\n"
     ]
    }
   ],
   "source": [
    "# figure 1\n"
   ]
  },
  {
   "cell_type": "code",
   "execution_count": 3,
   "id": "5aaac3c9",
   "metadata": {},
   "outputs": [],
   "source": [
    "# figure 2"
   ]
  },
  {
   "cell_type": "code",
   "execution_count": 4,
   "id": "486ad421",
   "metadata": {},
   "outputs": [],
   "source": [
    "# figure 3"
   ]
  },
  {
   "cell_type": "code",
   "execution_count": 5,
   "id": "ffdaf0d6",
   "metadata": {},
   "outputs": [],
   "source": [
    "# figure 4"
   ]
  },
  {
   "cell_type": "code",
   "execution_count": null,
   "id": "f9186f38",
   "metadata": {},
   "outputs": [],
   "source": [
    "# figure 5"
   ]
  }
 ],
 "metadata": {
  "kernelspec": {
   "display_name": "behavior-genetics",
   "language": "python",
   "name": "behavior-genetics"
  },
  "language_info": {
   "codemirror_mode": {
    "name": "ipython",
    "version": 3
   },
   "file_extension": ".py",
   "mimetype": "text/x-python",
   "name": "python",
   "nbconvert_exporter": "python",
   "pygments_lexer": "ipython3",
   "version": "3.10.4"
  }
 },
 "nbformat": 4,
 "nbformat_minor": 5
}
